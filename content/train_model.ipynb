{
 "cells": [
  {
   "cell_type": "code",
   "execution_count": null,
   "id": "9094055f-0e4e-486a-919c-476370256019",
   "metadata": {},
   "outputs": [],
   "source": [
    "from pathlib import Path\n",
    "\n",
    "import tensorflow as tf\n",
    "from tensorflow.keras import datasets, layers, models"
   ]
  },
  {
   "cell_type": "raw",
   "id": "ba619a6f-ab6c-4d5a-8856-aff175ccd64a",
   "metadata": {},
   "source": [
    "# needed if using a tensorflow pip-installed by user\n",
    "import os\n",
    "os.environ[\"XLA_FLAGS\"] = f\"--xla_gpu_cuda_data_dir={os.environ['CUDA_PATH']}\""
   ]
  },
  {
   "cell_type": "code",
   "execution_count": null,
   "id": "405830bd-ec90-469d-a83a-cf558f6e5b91",
   "metadata": {},
   "outputs": [],
   "source": [
    "output_folder = Path(\"notebook_results\")"
   ]
  },
  {
   "cell_type": "code",
   "execution_count": null,
   "id": "3d67f799-fe2b-4f06-af86-e00032b6a258",
   "metadata": {},
   "outputs": [],
   "source": [
    "(train_images, train_labels), (test_images, test_labels) = datasets.cifar10.load_data()\n",
    "train_images, test_images = train_images / 255.0, test_images / 255.0\n",
    "input_shape = train_images.shape[1:]"
   ]
  },
  {
   "cell_type": "code",
   "execution_count": null,
   "id": "6f4b3e25-8dc0-47ac-859a-a17aafb66069",
   "metadata": {},
   "outputs": [],
   "source": [
    "model = models.Sequential()\n",
    "model.add(layers.Conv2D(32, (3, 3), activation=\"relu\", input_shape=input_shape))\n",
    "model.add(layers.MaxPooling2D((2, 2)))\n",
    "model.add(layers.Conv2D(64, (3, 3), activation=\"relu\"))\n",
    "model.add(layers.MaxPooling2D((2, 2)))\n",
    "model.add(layers.Conv2D(64, (3, 3), activation=\"relu\"))\n",
    "model.add(layers.Flatten())\n",
    "model.add(layers.Dense(64, activation=\"relu\"))\n",
    "model.add(layers.Dense(10))"
   ]
  },
  {
   "cell_type": "code",
   "execution_count": null,
   "id": "f4db4f4b-8c3d-466f-9ed1-553060555bf6",
   "metadata": {},
   "outputs": [],
   "source": [
    "model.summary()"
   ]
  },
  {
   "cell_type": "code",
   "execution_count": null,
   "id": "bd762e23-ed64-4fd1-aacd-1adff76a2b4b",
   "metadata": {},
   "outputs": [],
   "source": [
    "model.compile(\n",
    "    optimizer=\"adam\",\n",
    "    loss=tf.keras.losses.SparseCategoricalCrossentropy(from_logits=True),\n",
    "    metrics=[\"accuracy\"],\n",
    ")"
   ]
  },
  {
   "cell_type": "code",
   "execution_count": null,
   "id": "f523a035-c388-47dd-8fca-9f8fcb84f8db",
   "metadata": {},
   "outputs": [],
   "source": [
    "tensorboard_callback = tf.keras.callbacks.TensorBoard(\n",
    "    log_dir=output_folder / \"logs\", histogram_freq=1\n",
    ")\n",
    "history = model.fit(\n",
    "    train_images,\n",
    "    train_labels,\n",
    "    epochs=5,\n",
    "    validation_data=(test_images, test_labels),\n",
    "    callbacks=[tensorboard_callback]\n",
    ")"
   ]
  },
  {
   "cell_type": "code",
   "execution_count": null,
   "id": "e86032a0-ff10-4675-be87-f64dc542e9bb",
   "metadata": {},
   "outputs": [],
   "source": [
    "test_loss, test_acc = model.evaluate(test_images, test_labels, verbose=2)\n",
    "print(f\"test accuracy: {test_acc}\")"
   ]
  },
  {
   "cell_type": "code",
   "execution_count": null,
   "id": "5bc523a4-86c6-4ec9-ba69-555ed570a8f2",
   "metadata": {},
   "outputs": [],
   "source": [
    "model.save(output_folder / \"trained_model_cifar10\")"
   ]
  },
  {
   "cell_type": "code",
   "execution_count": null,
   "id": "0e7f1745-a6cc-4d4e-8d5f-b021152430d5",
   "metadata": {},
   "outputs": [],
   "source": []
  }
 ],
 "metadata": {
  "kernelspec": {
   "display_name": "Python 3.10.5 (gimkl-2022a)",
   "language": "python",
   "name": "python3105-gimkl-2022a"
  },
  "language_info": {
   "codemirror_mode": {
    "name": "ipython",
    "version": 3
   },
   "file_extension": ".py",
   "mimetype": "text/x-python",
   "name": "python",
   "nbconvert_exporter": "python",
   "pygments_lexer": "ipython3",
   "version": "3.10.5"
  }
 },
 "nbformat": 4,
 "nbformat_minor": 5
}
